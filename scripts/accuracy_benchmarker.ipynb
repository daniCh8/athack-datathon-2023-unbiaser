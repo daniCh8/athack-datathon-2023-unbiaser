{
 "cells": [
  {
   "cell_type": "code",
   "execution_count": 48,
   "metadata": {},
   "outputs": [],
   "source": [
    "import pandas as pd\n",
    "import requests\n",
    "import json\n",
    "\n",
    "\n",
    "ENDPOINT_URL = ''\n",
    "OPEN_AI_KEY =  ''\n",
    "\n",
    "class ModelValidation:\n",
    "    def __init__(self) -> None:\n",
    "        self.crows_pair_df = pd.read_csv('crows_pairs_anonymized.csv', index_col = 0)\n",
    "\n",
    "    @staticmethod\n",
    "    def extract_text_between_quotes(text):\n",
    "        start = text.find('\"') + 1\n",
    "        end = text.find('\"', start)\n",
    "        return text[start:end]\n",
    "\n",
    "\n",
    "    def query_endpoint(self, payload):\n",
    "        response = requests.post(\n",
    "            ENDPOINT_URL, \n",
    "            data=json.dumps(payload), \n",
    "            headers={\"Content-Type\": \"application/json\"})\n",
    "\n",
    "        if response.status_code == 200:\n",
    "            print(\"Endpoint queried successfully.\")\n",
    "            return response.json()\n",
    "        else:\n",
    "            print(f\"Error querying endpoint. Status code: {response.status_code}\")\n",
    "            print(response.text)\n",
    "            return None\n",
    "\n",
    "    def debias_message_OPEN_AI(self, api_key,prompt, input_text):\n",
    "        text = f\"\"\"\n",
    "        {prompt}\n",
    "        \"{input_text}\"\n",
    "        \"\"\"\n",
    "\n",
    "        messages = [\n",
    "            {\"role\": \"system\", \"content\": \"You are a helpful assistant.\"},\n",
    "            {\"role\": \"user\", \"content\": text}\n",
    "        ]\n",
    "\n",
    "        headers = {\n",
    "            \"Content-Type\": \"application/json\",\n",
    "            \"Authorization\": f\"Bearer {api_key}\"\n",
    "        }\n",
    "\n",
    "        data = {\n",
    "            \"model\": \"gpt-3.5-turbo\",\n",
    "            \"messages\": messages,\n",
    "            \"max_tokens\": 500\n",
    "        }\n",
    "\n",
    "        response = requests.post(\"https://api.openai.com/v1/chat/completions\", headers=headers, data=json.dumps(data))\n",
    "\n",
    "        if response.status_code == 200:\n",
    "            return response.json()[\"choices\"][0][\"message\"][\"content\"]\n",
    "        else:\n",
    "            return f\"Error: {response.status_code}, {response.text}\"\n",
    "\n",
    "    def debias_message_FLAN(self,prompt,input_text):\n",
    "\n",
    "        text = prompt + ' ' + input_text\n",
    "        PAYLOAD = {\n",
    "            \"data\": {\n",
    "                \"text_inputs\": text,\n",
    "                \"max_length\": 80,\n",
    "                \"num_return_sequences\": 1,\n",
    "                \"top_k\": 20,\n",
    "                \"top_p\": 0.95,\n",
    "                \"do_sample\": True,\n",
    "                \"num_beams\": 5,\n",
    "                \"seed\": 123\n",
    "            }\n",
    "        }\n",
    "        \n",
    "        return self.query_endpoint(PAYLOAD)\n",
    "\n",
    "    \n",
    "    def get_crows_predictions_Gender_Bias(self, prompt, max_sample = 1000):\n",
    "        subset = self.crows_pair_df[self.crows_pair_df['bias_type'] == 'gender']\n",
    "        subset = subset.sample(max_sample)\n",
    "        subset['gender_prediction'] = subset['sent_more'].apply(lambda x: self.debias_message_FLAN(prompt, x))\n",
    "        return subset\n",
    "\n",
    "    def get_crows_predictions_Racial_Bias(self, prompt, max_sample = 1000):\n",
    "        subset = self.crows_pair_df[self.crows_pair_df['bias_type'] == 'race-color']\n",
    "        subset = subset.sample(max_sample)\n",
    "        subset['race_prediction'] = subset['sent_more'].apply(lambda x: self.debias_message_FLAN(prompt, x))\n",
    "        return subset\n",
    "         \n",
    "    def get_crows_predictions_Ethnic_Bias(self, prompt, max_sample = 1000):\n",
    "        subset = self.crows_pair_df[self.crows_pair_df['bias_type'] == 'nationality']\n",
    "        subset = subset.sample(max_sample)\n",
    "        subset['ethnic_prediction'] = subset['sent_more'].apply(lambda x: self.debias_message_FLAN(prompt, x))\n",
    "        return subset\n",
    "\n",
    "    @staticmethod\n",
    "    def get_accuracy(subset, column):\n",
    "        col = subset[column].apply(lambda x: x[0]).reset_index()\n",
    "        return col[col[column] == 'Yes'].shape[0]/  col.shape[0]"
   ]
  },
  {
   "cell_type": "code",
   "execution_count": 49,
   "metadata": {},
   "outputs": [
    {
     "name": "stdout",
     "output_type": "stream",
     "text": [
      "Endpoint queried successfully.\n",
      "Endpoint queried successfully.\n",
      "Endpoint queried successfully.\n",
      "Endpoint queried successfully.\n",
      "Endpoint queried successfully.\n",
      "Endpoint queried successfully.\n",
      "Endpoint queried successfully.\n",
      "Endpoint queried successfully.\n",
      "Endpoint queried successfully.\n",
      "Endpoint queried successfully.\n"
     ]
    },
    {
     "data": {
      "text/plain": [
       "0.0"
      ]
     },
     "execution_count": 49,
     "metadata": {},
     "output_type": "execute_result"
    }
   ],
   "source": [
    "prompts = ['Does this sentence has gender bias? Reply either Yes/No', \n",
    "           'Does this sentence contain gender bias? OPTIONS /n YES, NO',\n",
    "           'Reply to the following question: The following sentence has gender bias?']\n",
    "accuracies = []\n",
    "for prompt in prompts:\n",
    "    Inst = ModelValidation()\n",
    "    subset = Inst.get_crows_predictions_Gender_Bias(prompt =prompt, max_sample = 10)\n",
    "    accuracies.append(ModelValidation.get_accuracy(subset, 'gender_prediction'))"
   ]
  }
 ],
 "metadata": {
  "kernelspec": {
   "display_name": "Python 3.7.15 ('ptSRL')",
   "language": "python",
   "name": "python3"
  },
  "language_info": {
   "codemirror_mode": {
    "name": "ipython",
    "version": 3
   },
   "file_extension": ".py",
   "mimetype": "text/x-python",
   "name": "python",
   "nbconvert_exporter": "python",
   "pygments_lexer": "ipython3",
   "version": "3.7.15"
  },
  "orig_nbformat": 4,
  "vscode": {
   "interpreter": {
    "hash": "83b46cd8059daacb2ab3ff5e0d49d60373cf1638acf6873e1835148d02b00f58"
   }
  }
 },
 "nbformat": 4,
 "nbformat_minor": 2
}
